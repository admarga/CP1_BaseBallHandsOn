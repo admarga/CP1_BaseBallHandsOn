{
 "cells": [
  {
   "cell_type": "markdown",
   "metadata": {},
   "source": [
    "# ODEs: Projectile motion"
   ]
  },
  {
   "cell_type": "markdown",
   "metadata": {},
   "source": [
    "\n",
    "In one of our problem sets, we simulated the the equation for a projectile. Of course, the answer is:\n",
    "\n",
    "$$\n",
    "\\vec{x}(t) = \\frac{1}{2}\\vec{a}_0t^2 + \\vec{v}_0 t + \\vec{x}_0\n",
    "$$\n",
    "\n",
    "However, we now will be looking into direct solution of the ordinary differential equation using numerical methods. The equation of motion is\n",
    "\n",
    "$$\n",
    "\\ddot{\\vec{r}}(t) = -g\\hat{y}\n",
    "$$\n",
    "\n",
    "We will try three different methods:\n",
    "\n",
    "- Euler \n",
    "$$\\vec{v}_{n+1} = \\vec{v}_n + \\tau \\vec{a}_n$$\n",
    "$$\\vec{x}_{n+1} = \\vec{x}_n + \\tau \\vec{v}_n$$\n",
    "- Euler-Cromer\n",
    "$$\\vec{v}_{n+1} = \\vec{v}_n + \\tau \\vec{a}_n$$\n",
    "$$\\vec{x}_{n+1} = \\vec{x}_n + \\tau \\vec{v}_{n+1}$$\n",
    "- Midpoint\n",
    "$$\\vec{v}_{n+1} = \\vec{v}_n + \\tau \\vec{a}_n$$\n",
    "$$\\vec{x}_{n+1} = \\vec{x}_n + \\frac{\\tau}{2}\\left(\\vec{v}_n + \\vec{v}_{n+1}\\right)$$\n",
    "\n",
    "\n",
    "We will also investigate using air resistance:\n",
    "\n",
    "$$F_D = \\frac{1}{2}\\rho v^2 C_D A$$\n"
   ]
  },
  {
   "cell_type": "code",
   "execution_count": null,
   "metadata": {},
   "outputs": [],
   "source": [
    "%pylab inline\n",
    "# import our ode solver\n",
    "from UtilityFunctions.odes import *"
   ]
  },
  {
   "cell_type": "markdown",
   "metadata": {},
   "source": [
    "Set some constants (mass, Cd, etc.):"
   ]
  },
  {
   "cell_type": "code",
   "execution_count": null,
   "metadata": {},
   "outputs": [],
   "source": [
    "Cd = 0.35      # Drag coefficient (dimensionless)\n",
    "area =   # Cross-sectional area of the baseball (m^2)\n",
    "grav =     # Gravitational acceleration (m/s^2) in negative y direction\n",
    "mass =   # Mass of the baseball (kg)\n",
    "\n",
    "# Use air resistance or not?\n",
    "airFlag = True\n",
    "if not airFlag  :\n",
    "    rho = 0      # No air resistance\n",
    "else :\n",
    "    rho = 1.2    # Density of air (kg/m^3)\n",
    "    \n",
    "air_const = 0.5*Cd*rho*area/mass  # Air resistance constant\n",
    "print(\"Air Constant: {}\".format(air_const))"
   ]
  },
  {
   "cell_type": "markdown",
   "metadata": {},
   "source": [
    "Choose which ODE solver and set parameters"
   ]
  },
  {
   "cell_type": "code",
   "execution_count": null,
   "metadata": {},
   "outputs": [],
   "source": [
    "# Solver:\n",
    "# method = 'Euler'\n",
    "# method = 'Euler-Cromer'\n",
    "# method = 'Midpoint'\n",
    "\n",
    "# Maximum number of steps\n",
    "maxStep = \n",
    "\n",
    "# Time step\n",
    "tau = \n",
    "\n",
    "# Height\n",
    "h = # height of starting point in m in y direction\n",
    "\n",
    "# Initial x velocity\n",
    "vix =  # Average baseball starting speed in m/s in x direction\n",
    "\n",
    "# Max time\n",
    "tmax =  # calculate!\n",
    "\n",
    "# State values.\n",
    "t = np.arange(0,tmax,tau) # time\n",
    "r = np.zeros((maxStep,2)) # location (x,y)\n",
    "v = np.zeros((maxStep,2)) # velocity (x,y)\n",
    "a = np.zeros((maxStep,2)) # acceleration (x,y)\n",
    "r[0,:] = np.array([0,h])     # start location\n",
    "v[0,:] = np.array([vix,0])   # start velocity\n",
    "a[0,:] = np.array([0,grav])  # start accelartion"
   ]
  },
  {
   "cell_type": "markdown",
   "metadata": {},
   "source": [
    "## Get true solutions with no air resistance"
   ]
  },
  {
   "cell_type": "code",
   "execution_count": null,
   "metadata": {},
   "outputs": [],
   "source": [
    "tau = 0.05\n",
    "tmax = tau * 1000\n",
    "t = np.arange(0,tmax,tau) # time\n",
    "r0 = np.array(r[0]).reshape((2,1))\n",
    "v0 = np.array(v[0]).reshape((2,1))\n",
    "a0 = np.array(a[0]).reshape((2,1))\n",
    "rtrue = r0 + v0 * t + 0.5 * a0*t**2"
   ]
  },
  {
   "cell_type": "markdown",
   "metadata": {},
   "source": [
    "### Plot the true trajectory for the baseball\n",
    "\n",
    "*Note:* We are playing on solid ground!"
   ]
  },
  {
   "cell_type": "code",
   "execution_count": null,
   "metadata": {},
   "outputs": [],
   "source": [
    "# Plot rtrue for x,y coordinates\n"
   ]
  },
  {
   "cell_type": "markdown",
   "metadata": {},
   "source": [
    "## Simulate the trajectory"
   ]
  },
  {
   "cell_type": "code",
   "execution_count": null,
   "metadata": {},
   "outputs": [],
   "source": [
    "# prepare start conditions\n",
    "ri = np.array(r[0])  # same start conditions as true trajectory\n",
    "vi = np.array(v[0])  # same start conditions as true trajectory\n",
    "ai = np.array(a[0])  # same start conditions as true trajectory\n",
    "state = np.array( [ri,vi,ai] ) # prepare ode state\n",
    "\n",
    "# Loop until ball hits ground or max steps completed\n",
    "for iStep in np.arange(1,maxStep) :\n",
    "    ti = t[iStep-1]\n",
    "    state[2] =-air_const*state[1][0] * state[1]  # accelaration\n",
    "    state[2][1] += grav \n",
    "    \n",
    "    #* Calculate the new position and velocity using ODE solver\n",
    "    if method == b'Euler':\n",
    "        state = step_euler(tau, state)\n",
    "    elif method == b'Euler-Cromer':\n",
    "        state = step_euler_cromer(tau, state)\n",
    "    elif method == b'Midpoint':\n",
    "        state = step_midpoint(tau,state)\n",
    "    # Store solution in state values\n",
    "    r[iStep] = state[0]\n",
    "    v[iStep] = state[1]\n",
    "    a[iStep] = state[2]"
   ]
  },
  {
   "cell_type": "markdown",
   "metadata": {},
   "source": [
    "### Plot the simulated trajectory and the true trajectory\n",
    "\n",
    "*Note:* Still playing on solid ground!"
   ]
  },
  {
   "cell_type": "code",
   "execution_count": null,
   "metadata": {},
   "outputs": [],
   "source": []
  }
 ],
 "metadata": {
  "kernelspec": {
   "display_name": "Python 3 (ipykernel)",
   "language": "python",
   "name": "python3"
  },
  "language_info": {
   "codemirror_mode": {
    "name": "ipython",
    "version": 3
   },
   "file_extension": ".py",
   "mimetype": "text/x-python",
   "name": "python",
   "nbconvert_exporter": "python",
   "pygments_lexer": "ipython3",
   "version": "3.9.5"
  }
 },
 "nbformat": 4,
 "nbformat_minor": 4
}
